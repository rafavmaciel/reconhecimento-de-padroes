{
 "cells": [
  {
   "cell_type": "code",
   "execution_count": 1,
   "id": "608bc1e4",
   "metadata": {},
   "outputs": [],
   "source": [
    "import pandas as pd\n",
    "import numpy as np\n",
    "from sklearn import tree\n",
    "from sklearn.tree import DecisionTreeClassifier\n",
    "from sklearn.model_selection import train_test_split\n",
    "from sklearn import metrics,preprocessing,model_selection\n",
    "from sklearn.metrics import accuracy_score\n",
    "from sklearn.metrics import confusion_matrix                                                     \n",
    "import scipy.stats   \n",
    "import graphviz "
   ]
  },
  {
   "cell_type": "code",
   "execution_count": 2,
   "id": "4bea8cbc",
   "metadata": {},
   "outputs": [],
   "source": [
    "data = pd.read_csv(\"car.data\")\n",
    "data.columns.tolist()\n",
    "data.rename(columns= {'0':'buying', '1':'maint', '2':'doors', '3':'persons',\n",
    "                      '4':'lug_boot', '5':'safety', '6':'class'},inplace=True)\n",
    "\n",
    "data['buying'] = data['buying'].map({'low':0,'med':1,'high':2,'vhigh':3})\n",
    "data['maint'] = data['maint'].map({'low':0,'med':1,'high':2,'vhigh':3})\n",
    "data['doors'] = data['doors'].map({'2':0,'3':1,'4':2,'5more':3})\n",
    "data['persons'] = data['persons'].map({'2':0,'4':1,'more':2})\n",
    "data['lug_boot'] = data['lug_boot'].map({'small':0,'med':1,'big':2})\n",
    "data['safety'] = data['safety'].map({'low':0,'med':1,'high':2})\n",
    "data['class'] = data['class'].map({'unacc':0,'acc':1,'good':2,'vgood':3})\n",
    "\n",
    "y = data['class']\n",
    "x = data.iloc[:,:6]"
   ]
  },
  {
   "cell_type": "code",
   "execution_count": 3,
   "id": "309a83b0",
   "metadata": {},
   "outputs": [],
   "source": [
    "y = data.iloc[:,:1]\n",
    "x = data.drop(['class'],axis = 1)\n",
    "y = y.apply(le.fit_transform)\n",
    "contador = 0\n"
   ]
  },
  {
   "cell_type": "code",
   "execution_count": 4,
   "id": "fa430b4f",
   "metadata": {},
   "outputs": [],
   "source": [
    "X_train, X_test, y_train, y_test = train_test_split(x,y,test_size=0.5, random_state = 1)\n",
    "clf =DecisionTreeClassifier(criterion='entropy', min_samples_leaf=50,max_depth=2)\n",
    "clf.fit(X_train,y_train)\n",
    "predict = clf.predict(X_test)\n",
    "score = clf.score(X_test,y_test)"
   ]
  },
  {
   "cell_type": "code",
   "execution_count": 5,
   "id": "2524fb27",
   "metadata": {},
   "outputs": [
    {
     "data": {
      "text/plain": [
       "'car.pdf'"
      ]
     },
     "execution_count": 5,
     "metadata": {},
     "output_type": "execute_result"
    }
   ],
   "source": [
    "dot_data = tree.export_graphviz(clf, out_file=None) \n",
    "graph = graphviz.Source(dot_data) \n",
    "graph.render(\"car\") "
   ]
  },
  {
   "cell_type": "code",
   "execution_count": null,
   "id": "c798598f",
   "metadata": {},
   "outputs": [],
   "source": []
  }
 ],
 "metadata": {
  "kernelspec": {
   "display_name": "Python 3 (ipykernel)",
   "language": "python",
   "name": "python3"
  },
  "language_info": {
   "codemirror_mode": {
    "name": "ipython",
    "version": 3
   },
   "file_extension": ".py",
   "mimetype": "text/x-python",
   "name": "python",
   "nbconvert_exporter": "python",
   "pygments_lexer": "ipython3",
   "version": "3.8.11"
  }
 },
 "nbformat": 4,
 "nbformat_minor": 5
}
